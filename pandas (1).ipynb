{
 "cells": [
  {
   "cell_type": "markdown",
   "id": "68998e42-3d12-410a-b7bf-36abaa0dba35",
   "metadata": {},
   "source": [
    "Q1. Create a Pandas Series that contains the following data: 4, 8, 15, 16, 23, and 42. Then, print the series."
   ]
  },
  {
   "cell_type": "code",
   "execution_count": 1,
   "id": "a153bc24-d697-44bd-8d88-029b17d4dbe8",
   "metadata": {},
   "outputs": [
    {
     "name": "stdout",
     "output_type": "stream",
     "text": [
      "0     4\n",
      "1     8\n",
      "2    15\n",
      "3    16\n",
      "4    23\n",
      "5    42\n",
      "dtype: int64\n"
     ]
    }
   ],
   "source": [
    "import pandas as pd\n",
    "\n",
    "data = [4, 8, 15, 16, 23, 42]\n",
    "series = pd.Series(data)\n",
    "\n",
    "print(series)\n"
   ]
  },
  {
   "cell_type": "markdown",
   "id": "c6c3784e-8275-418c-b52f-61ffd0af6a7e",
   "metadata": {},
   "source": [
    "Q2. Create a variable of list type containing 10 elements in it, and apply pandas.Series function on the\n",
    "variable print it."
   ]
  },
  {
   "cell_type": "code",
   "execution_count": 2,
   "id": "a1ffaa8f-0d40-46c6-9c90-70d998f7aca8",
   "metadata": {},
   "outputs": [
    {
     "name": "stdout",
     "output_type": "stream",
     "text": [
      "0     1\n",
      "1     2\n",
      "2     3\n",
      "3     4\n",
      "4     5\n",
      "5     6\n",
      "6     7\n",
      "7     8\n",
      "8     9\n",
      "9    10\n",
      "dtype: int64\n"
     ]
    }
   ],
   "source": [
    "import pandas as pd\n",
    "\n",
    "my_list = [1, 2, 3, 4, 5, 6, 7, 8, 9, 10]\n",
    "series = pd.Series(my_list)\n",
    "\n",
    "print(series)\n"
   ]
  },
  {
   "cell_type": "markdown",
   "id": "fec47dfc-39a3-4298-9612-12c80f0de6f7",
   "metadata": {},
   "source": [
    "Q4. What is ‘DataFrame’ in pandas and how is it different from pandas.series? Explain with an example."
   ]
  },
  {
   "cell_type": "markdown",
   "id": "13be31ab-79ae-416a-aff6-9e529afd8745",
   "metadata": {},
   "source": [
    "dataframe are the multipul datatype present in the pandas libray.tubes type are the know as the dataframe .\n",
    "here is how a csv file can be read using pandas "
   ]
  },
  {
   "cell_type": "code",
   "execution_count": 4,
   "id": "7efa204b-c74a-4412-81da-327adaaf3206",
   "metadata": {},
   "outputs": [
    {
     "name": "stdout",
     "output_type": "stream",
     "text": [
      "0     1\n",
      "1     2\n",
      "2     3\n",
      "3     4\n",
      "4     5\n",
      "5     6\n",
      "6     7\n",
      "7     8\n",
      "8     9\n",
      "9    10\n",
      "dtype: int64\n"
     ]
    }
   ],
   "source": [
    "import pandas as pd\n",
    "\n",
    "my_list = [1, 2, 3, 4, 5, 6, 7, 8, 9, 10]\n",
    "series = pd.Series(my_list)\n",
    "\n",
    "print(series)\n"
   ]
  },
  {
   "cell_type": "markdown",
   "id": "4f60e413-b2b3-40af-a749-6fd88a10a181",
   "metadata": {},
   "source": [
    "Q5. What are some common functions you can use to manipulate data in a Pandas DataFrame? Can\n",
    "you give an example of when you might use one of these functions?"
   ]
  },
  {
   "cell_type": "code",
   "execution_count": 5,
   "id": "0c2146ae-bc4a-46fb-a39f-2dbb891a32d2",
   "metadata": {},
   "outputs": [
    {
     "name": "stdout",
     "output_type": "stream",
     "text": [
      "  Order ID  Order Date CustomerName           State     City\n",
      "0  B-26055  10-03-2018    Harivansh   Uttar Pradesh  Mathura\n",
      "1  B-25993  03-02-2018       Madhav           Delhi    Delhi\n",
      "2  B-25973  24-01-2018  Madan Mohan   Uttar Pradesh  Mathura\n",
      "3  B-25923  27-12-2018        Gopal     Maharashtra   Mumbai\n",
      "4  B-25757  21-08-2018     Vishakha  Madhya Pradesh   Indore\n"
     ]
    }
   ],
   "source": [
    "import pandas as pd\n",
    "\n",
    "df = pd.read_csv('Orders.csv')\n",
    "print(df.head())  \n"
   ]
  },
  {
   "cell_type": "code",
   "execution_count": 6,
   "id": "4809746d-da01-4c11-abdf-2a035b957325",
   "metadata": {},
   "outputs": [
    {
     "name": "stdout",
     "output_type": "stream",
     "text": [
      "(500, 5)\n"
     ]
    }
   ],
   "source": [
    "import pandas as pd\n",
    "\n",
    "df = pd.read_csv('Orders.csv')\n",
    "print(df.shape)   \n"
   ]
  },
  {
   "cell_type": "markdown",
   "id": "21dac6cb-9001-421e-8e75-2fe24ffe2cda",
   "metadata": {},
   "source": [
    "Q6. Which of the following is mutable in nature Series, DataFrame, Panel?"
   ]
  },
  {
   "cell_type": "markdown",
   "id": "fba3bce7-1f34-434d-9db4-b06eba089a21",
   "metadata": {},
   "source": [
    "In pandas, a DataFrame is mutable, meaning it can be modified after it is created. You can change, update, add, or delete columns and rows within a DataFrame. DataFrame provides methods and functions that allow you to manipulate the data and structure of the DataFrame.\n",
    "\n",
    "On the other hand, both Series and Panel are considered immutable in pandas. Once a Series or Panel object is created, its data and structure cannot be modified directly. Instead, you can create a new Series or Panel object based on the existing one with modifications if needed.\n",
    "\n",
    "It's important to note that starting from pandas version 1.0, the Panel data structure has been deprecated, and it is recommended to use other pandas data structures like DataFrame or MultiIndex DataFrame for similar use case"
   ]
  },
  {
   "cell_type": "markdown",
   "id": "b520cb1e-f47b-421f-aff4-3e506c42d9b9",
   "metadata": {},
   "source": [
    "6.Create a DataFrame using multiple Series. Explain with an example."
   ]
  },
  {
   "cell_type": "code",
   "execution_count": 8,
   "id": "3827b743-9216-4cb2-a440-a3fc2ecc7a0b",
   "metadata": {},
   "outputs": [],
   "source": [
    "import pandas as pd\n",
    "\n",
    "df = pd.read_csv(\"Orders.csv\")"
   ]
  },
  {
   "cell_type": "code",
   "execution_count": 10,
   "id": "05ff116d-cc88-4c21-9f62-64149f50fe9d",
   "metadata": {},
   "outputs": [
    {
     "data": {
      "text/plain": [
       "Index(['Order ID', 'Order Date', 'CustomerName', 'State', 'City'], dtype='object')"
      ]
     },
     "execution_count": 10,
     "metadata": {},
     "output_type": "execute_result"
    }
   ],
   "source": [
    "df.columns\n"
   ]
  },
  {
   "cell_type": "code",
   "execution_count": 12,
   "id": "e7880ffa-a078-4252-8a73-bc69f3cb69fa",
   "metadata": {},
   "outputs": [
    {
     "data": {
      "text/html": [
       "<div>\n",
       "<style scoped>\n",
       "    .dataframe tbody tr th:only-of-type {\n",
       "        vertical-align: middle;\n",
       "    }\n",
       "\n",
       "    .dataframe tbody tr th {\n",
       "        vertical-align: top;\n",
       "    }\n",
       "\n",
       "    .dataframe thead th {\n",
       "        text-align: right;\n",
       "    }\n",
       "</style>\n",
       "<table border=\"1\" class=\"dataframe\">\n",
       "  <thead>\n",
       "    <tr style=\"text-align: right;\">\n",
       "      <th></th>\n",
       "      <th>City</th>\n",
       "      <th>CustomerName</th>\n",
       "    </tr>\n",
       "  </thead>\n",
       "  <tbody>\n",
       "    <tr>\n",
       "      <th>0</th>\n",
       "      <td>Mathura</td>\n",
       "      <td>Harivansh</td>\n",
       "    </tr>\n",
       "    <tr>\n",
       "      <th>1</th>\n",
       "      <td>Delhi</td>\n",
       "      <td>Madhav</td>\n",
       "    </tr>\n",
       "    <tr>\n",
       "      <th>2</th>\n",
       "      <td>Mathura</td>\n",
       "      <td>Madan Mohan</td>\n",
       "    </tr>\n",
       "    <tr>\n",
       "      <th>3</th>\n",
       "      <td>Mumbai</td>\n",
       "      <td>Gopal</td>\n",
       "    </tr>\n",
       "    <tr>\n",
       "      <th>4</th>\n",
       "      <td>Indore</td>\n",
       "      <td>Vishakha</td>\n",
       "    </tr>\n",
       "    <tr>\n",
       "      <th>...</th>\n",
       "      <td>...</td>\n",
       "      <td>...</td>\n",
       "    </tr>\n",
       "    <tr>\n",
       "      <th>495</th>\n",
       "      <td>Goa</td>\n",
       "      <td>Ashwin</td>\n",
       "    </tr>\n",
       "    <tr>\n",
       "      <th>496</th>\n",
       "      <td>Gangtok</td>\n",
       "      <td>Bhavna</td>\n",
       "    </tr>\n",
       "    <tr>\n",
       "      <th>497</th>\n",
       "      <td>Mumbai</td>\n",
       "      <td>Shivani</td>\n",
       "    </tr>\n",
       "    <tr>\n",
       "      <th>498</th>\n",
       "      <td>Simla</td>\n",
       "      <td>Shubham</td>\n",
       "    </tr>\n",
       "    <tr>\n",
       "      <th>499</th>\n",
       "      <td>Jaipur</td>\n",
       "      <td>Monisha</td>\n",
       "    </tr>\n",
       "  </tbody>\n",
       "</table>\n",
       "<p>500 rows × 2 columns</p>\n",
       "</div>"
      ],
      "text/plain": [
       "        City CustomerName\n",
       "0    Mathura    Harivansh\n",
       "1      Delhi       Madhav\n",
       "2    Mathura  Madan Mohan\n",
       "3     Mumbai        Gopal\n",
       "4     Indore     Vishakha\n",
       "..       ...          ...\n",
       "495      Goa       Ashwin\n",
       "496  Gangtok       Bhavna\n",
       "497   Mumbai      Shivani\n",
       "498    Simla      Shubham\n",
       "499   Jaipur      Monisha\n",
       "\n",
       "[500 rows x 2 columns]"
      ]
     },
     "execution_count": 12,
     "metadata": {},
     "output_type": "execute_result"
    }
   ],
   "source": [
    "df[[ 'City','CustomerName' ]]"
   ]
  },
  {
   "cell_type": "code",
   "execution_count": null,
   "id": "c3eee624-cebc-4cf6-83b5-054f391d37f5",
   "metadata": {},
   "outputs": [],
   "source": []
  }
 ],
 "metadata": {
  "kernelspec": {
   "display_name": "Python 3 (ipykernel)",
   "language": "python",
   "name": "python3"
  },
  "language_info": {
   "codemirror_mode": {
    "name": "ipython",
    "version": 3
   },
   "file_extension": ".py",
   "mimetype": "text/x-python",
   "name": "python",
   "nbconvert_exporter": "python",
   "pygments_lexer": "ipython3",
   "version": "3.10.8"
  }
 },
 "nbformat": 4,
 "nbformat_minor": 5
}
